{
 "cells": [
  {
   "cell_type": "code",
   "execution_count": 1,
   "metadata": {},
   "outputs": [],
   "source": [
    "import os,struct\n",
    "\n",
    "import numpy as np\n",
    "import matplotlib.pyplot as plt\n",
    "import pandas as pd\n",
    "import seaborn as sns\n",
    "\n",
    "from PIL import Image\n",
    "from utils.constants import HIRAGANA"
   ]
  },
  {
   "cell_type": "code",
   "execution_count": 2,
   "metadata": {},
   "outputs": [],
   "source": [
    "BASE_PATH = './data/etl7'\n",
    "UNPACK_STRING = '>H2sH6BI4H4B4x2016s4x'\n",
    "FILES = ['ETL7LC_1']\n",
    "RECORDS_NB = [9600, 7200, 9600, 7200]\n",
    "RECORD_LENGTH = 2052 # bytes\n",
    "WIDTH = 64\n",
    "HEIGHT = 63\n",
    "COLUMNS_LABELS = ['index','hiragana','writer_gender','writer_age','date_of_scan','image_data']"
   ]
  },
  {
   "cell_type": "code",
   "execution_count": 4,
   "metadata": {},
   "outputs": [],
   "source": [
    "records_list = []\n",
    "\n",
    "for filename in FILES:\n",
    "    file_index = FILES.index(filename)\n",
    "    records_nb = RECORDS_NB[file_index]\n",
    "    count = 0\n",
    "    f = open(f'{BASE_PATH}/{filename}', 'rb')\n",
    "\n",
    "    while count <= records_nb:\n",
    "        record_string = f.read(RECORD_LENGTH)\n",
    "\n",
    "        if len(record_string) < RECORD_LENGTH:\n",
    "            break\n",
    "            \n",
    "        record = struct.unpack(UNPACK_STRING, record_string)\n",
    "        phonetic = record[1].decode('ascii')\n",
    "        hiragana = df['hiragana'] = df.apply(set_hiragana, axis=1)\n",
    "        base_date = str(record[13])\n",
    "        date_of_scan = f'{base_date[2:]}-19{base_date[:2]}' # 7708 -> 08-1977\n",
    "        record_data = [record[0],phonetic,record[7],record[8],date_of_scan,record[18]]\n",
    "        records_list.append(record_data)     \n",
    "        count+=1\n",
    "\n",
    "    f.close()"
   ]
  },
  {
   "cell_type": "code",
   "execution_count": null,
   "metadata": {},
   "outputs": [],
   "source": []
  }
 ],
 "metadata": {
  "kernelspec": {
   "display_name": "Python 3 (ipykernel)",
   "language": "python",
   "name": "python3"
  },
  "language_info": {
   "codemirror_mode": {
    "name": "ipython",
    "version": 3
   },
   "file_extension": ".py",
   "mimetype": "text/x-python",
   "name": "python",
   "nbconvert_exporter": "python",
   "pygments_lexer": "ipython3",
   "version": "3.9.7"
  }
 },
 "nbformat": 4,
 "nbformat_minor": 2
}
