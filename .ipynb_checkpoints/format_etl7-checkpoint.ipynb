{
 "cells": [
  {
   "cell_type": "code",
   "execution_count": 2,
   "metadata": {},
   "outputs": [],
   "source": [
    "import os,struct\n",
    "\n",
    "import numpy as np\n",
    "import matplotlib.pyplot as plt\n",
    "import pandas as pd\n",
    "import seaborn as sns\n",
    "\n",
    "from PIL import Image\n",
    "from utils.constants import HIRAGANA"
   ]
  },
  {
   "cell_type": "code",
   "execution_count": 3,
   "metadata": {},
   "outputs": [],
   "source": [
    "BASE_PATH = './data/etl7'\n",
    "UNPACK_STRING = '>H2sH6BI4H4B4x2016s4x'\n",
    "FILES = ['ETL7LC_1']\n",
    "RECORDS_NB = [9600, 7200, 9600, 7200]\n",
    "RECORD_LENGTH = 2052 # bytes\n",
    "WIDTH = 64\n",
    "HEIGHT = 63\n",
    "COLUMNS_LABELS = ['hiragana','image_data']"
   ]
  },
  {
   "cell_type": "code",
   "execution_count": 4,
   "metadata": {},
   "outputs": [],
   "source": [
    "records_list = []\n",
    "\n",
    "for filename in FILES:\n",
    "    file_index = FILES.index(filename)\n",
    "    records_nb = RECORDS_NB[file_index]\n",
    "    count = 0\n",
    "    f = open(f'{BASE_PATH}/{filename}', 'rb')\n",
    "\n",
    "    while count <= records_nb:\n",
    "        record_string = f.read(RECORD_LENGTH)\n",
    "\n",
    "        if len(record_string) < RECORD_LENGTH:\n",
    "            break\n",
    "            \n",
    "        record = struct.unpack(UNPACK_STRING, record_string)\n",
    "        \n",
    "        phonetic = record[1].decode('ascii')\n",
    "        hiragana = HIRAGANA[phonetic]\n",
    "        \n",
    "        record_data = [hiragana,record[18]]\n",
    "        \n",
    "        records_list.append(record_data)     \n",
    "        count+=1\n",
    "\n",
    "    f.close()"
   ]
  },
  {
   "cell_type": "code",
   "execution_count": 5,
   "metadata": {},
   "outputs": [
    {
     "data": {
      "text/html": [
       "<div>\n",
       "<style scoped>\n",
       "    .dataframe tbody tr th:only-of-type {\n",
       "        vertical-align: middle;\n",
       "    }\n",
       "\n",
       "    .dataframe tbody tr th {\n",
       "        vertical-align: top;\n",
       "    }\n",
       "\n",
       "    .dataframe thead th {\n",
       "        text-align: right;\n",
       "    }\n",
       "</style>\n",
       "<table border=\"1\" class=\"dataframe\">\n",
       "  <thead>\n",
       "    <tr style=\"text-align: right;\">\n",
       "      <th></th>\n",
       "      <th>hiragana</th>\n",
       "      <th>image_data</th>\n",
       "    </tr>\n",
       "  </thead>\n",
       "  <tbody>\n",
       "    <tr>\n",
       "      <th>0</th>\n",
       "      <td>あ</td>\n",
       "      <td>b'2#3\\x133#\"\"!\"\"\"2#\\x12\"3\"23\\x122#\"\\x13\\x123\"3...</td>\n",
       "    </tr>\n",
       "    <tr>\n",
       "      <th>1</th>\n",
       "      <td>あ</td>\n",
       "      <td>b'3334332\"#3\"2C\"#2#\"!3\"2#\"\"\"\"\"23C233CC33C33322...</td>\n",
       "    </tr>\n",
       "    <tr>\n",
       "      <th>2</th>\n",
       "      <td>あ</td>\n",
       "      <td>b'32333333#22\"3\"2\"#2\"#\"2#2\"#33#3332233#233\"22\\...</td>\n",
       "    </tr>\n",
       "    <tr>\n",
       "      <th>3</th>\n",
       "      <td>あ</td>\n",
       "      <td>b'C4B33332232#33##3\"###3\"2#3243333D3C433#2232$...</td>\n",
       "    </tr>\n",
       "    <tr>\n",
       "      <th>4</th>\n",
       "      <td>あ</td>\n",
       "      <td>b'2223\"2!\"\"\"!\"#\"\"\"22\"\"\\x12!\"!!\"#\\x12\"\"23312#\"\"...</td>\n",
       "    </tr>\n",
       "  </tbody>\n",
       "</table>\n",
       "</div>"
      ],
      "text/plain": [
       "  hiragana                                         image_data\n",
       "0        あ  b'2#3\\x133#\"\"!\"\"\"2#\\x12\"3\"23\\x122#\"\\x13\\x123\"3...\n",
       "1        あ  b'3334332\"#3\"2C\"#2#\"!3\"2#\"\"\"\"\"23C233CC33C33322...\n",
       "2        あ  b'32333333#22\"3\"2\"#2\"#\"2#2\"#33#3332233#233\"22\\...\n",
       "3        あ  b'C4B33332232#33##3\"###3\"2#3243333D3C433#2232$...\n",
       "4        あ  b'2223\"2!\"\"\"!\"#\"\"\"22\"\"\\x12!\"!!\"#\\x12\"\"23312#\"\"..."
      ]
     },
     "execution_count": 5,
     "metadata": {},
     "output_type": "execute_result"
    }
   ],
   "source": [
    "df = pd.DataFrame(records_list, columns=COLUMNS_LABELS)\n",
    "df.head()"
   ]
  },
  {
   "cell_type": "code",
   "execution_count": 6,
   "metadata": {},
   "outputs": [
    {
     "data": {
      "text/plain": [
       "48"
      ]
     },
     "execution_count": 6,
     "metadata": {},
     "output_type": "execute_result"
    }
   ],
   "source": [
    "len(HIRAGANA)"
   ]
  },
  {
   "cell_type": "code",
   "execution_count": 44,
   "metadata": {
    "scrolled": true
   },
   "outputs": [
    {
     "ename": "ValueError",
     "evalue": "too many values to unpack (expected 2)",
     "output_type": "error",
     "traceback": [
      "\u001b[0;31m---------------------------------------------------------------------------\u001b[0m",
      "\u001b[0;31mValueError\u001b[0m                                Traceback (most recent call last)",
      "\u001b[0;32m/var/folders/s7/mxfbjdp946s135hry672wstw0000gn/T/ipykernel_71541/1735848241.py\u001b[0m in \u001b[0;36m<module>\u001b[0;34m\u001b[0m\n\u001b[1;32m      4\u001b[0m \u001b[0;32mfor\u001b[0m \u001b[0mH\u001b[0m \u001b[0;32min\u001b[0m \u001b[0mhiraganas\u001b[0m\u001b[0;34m:\u001b[0m\u001b[0;34m\u001b[0m\u001b[0;34m\u001b[0m\u001b[0m\n\u001b[1;32m      5\u001b[0m     \u001b[0mi\u001b[0m \u001b[0;34m=\u001b[0m \u001b[0mhiraganas\u001b[0m\u001b[0;34m.\u001b[0m\u001b[0mindex\u001b[0m\u001b[0;34m(\u001b[0m\u001b[0mH\u001b[0m\u001b[0;34m)\u001b[0m\u001b[0;34m\u001b[0m\u001b[0;34m\u001b[0m\u001b[0m\n\u001b[0;32m----> 6\u001b[0;31m     \u001b[0mchar\u001b[0m\u001b[0;34m,\u001b[0m \u001b[0mimg_data\u001b[0m \u001b[0;34m=\u001b[0m \u001b[0mdf\u001b[0m\u001b[0;34m[\u001b[0m\u001b[0mdf\u001b[0m\u001b[0;34m[\u001b[0m\u001b[0;34m'hiragana'\u001b[0m\u001b[0;34m]\u001b[0m \u001b[0;34m==\u001b[0m \u001b[0mH\u001b[0m\u001b[0;34m]\u001b[0m\u001b[0;34m.\u001b[0m\u001b[0mvalues\u001b[0m\u001b[0;34m[\u001b[0m\u001b[0;36m0\u001b[0m\u001b[0;34m]\u001b[0m\u001b[0;34m\u001b[0m\u001b[0;34m\u001b[0m\u001b[0m\n\u001b[0m\u001b[1;32m      7\u001b[0m     \u001b[0mimg\u001b[0m \u001b[0;34m=\u001b[0m \u001b[0mnp\u001b[0m\u001b[0;34m.\u001b[0m\u001b[0marray\u001b[0m\u001b[0;34m(\u001b[0m\u001b[0mImage\u001b[0m\u001b[0;34m.\u001b[0m\u001b[0mfrombytes\u001b[0m\u001b[0;34m(\u001b[0m\u001b[0;34m'F'\u001b[0m\u001b[0;34m,\u001b[0m \u001b[0;34m(\u001b[0m\u001b[0mWIDTH\u001b[0m\u001b[0;34m,\u001b[0m \u001b[0mHEIGHT\u001b[0m\u001b[0;34m)\u001b[0m\u001b[0;34m,\u001b[0m \u001b[0mimg_data\u001b[0m\u001b[0;34m,\u001b[0m \u001b[0;34m'bit'\u001b[0m\u001b[0;34m,\u001b[0m \u001b[0;36m4\u001b[0m\u001b[0;34m)\u001b[0m\u001b[0;34m)\u001b[0m\u001b[0;34m\u001b[0m\u001b[0;34m\u001b[0m\u001b[0m\n\u001b[1;32m      8\u001b[0m     \u001b[0mplt\u001b[0m\u001b[0;34m.\u001b[0m\u001b[0mimshow\u001b[0m\u001b[0;34m(\u001b[0m\u001b[0mimg\u001b[0m\u001b[0;34m,\u001b[0m \u001b[0mcmap\u001b[0m\u001b[0;34m=\u001b[0m\u001b[0mplt\u001b[0m\u001b[0;34m.\u001b[0m\u001b[0mcm\u001b[0m\u001b[0;34m.\u001b[0m\u001b[0mgray_r\u001b[0m\u001b[0;34m,\u001b[0m \u001b[0minterpolation\u001b[0m\u001b[0;34m=\u001b[0m\u001b[0;34m'nearest'\u001b[0m\u001b[0;34m)\u001b[0m\u001b[0;34m\u001b[0m\u001b[0;34m\u001b[0m\u001b[0m\n",
      "\u001b[0;31mValueError\u001b[0m: too many values to unpack (expected 2)"
     ]
    }
   ],
   "source": [
    "size = len(HIRAGANA) / 2\n",
    "hiraganas = list(HIRAGANA.values())\n",
    "\n",
    "for H in hiraganas:\n",
    "    i = hiraganas.index(H)\n",
    "    char, img_data = df[df['hiragana'] == H].values[0]\n",
    "    img = np.array(Image.frombytes('F', (WIDTH, HEIGHT), img_data, 'bit', 4))\n",
    "    plt.imshow(img, cmap='gray', interpolation='none')\n",
    "    plt.colorbar()\n",
    "    plt.show()"
   ]
  },
  {
   "cell_type": "code",
   "execution_count": 8,
   "metadata": {
    "scrolled": true
   },
   "outputs": [
    {
     "data": {
      "text/plain": [
       "array([3., 3., 4., ..., 2., 2., 2.], dtype=float32)"
      ]
     },
     "execution_count": 8,
     "metadata": {},
     "output_type": "execute_result"
    }
   ],
   "source": [
    "reshaped_arr = np.reshape(np.array(Image.frombytes('F', (WIDTH, HEIGHT), img_data, 'bit', 4)), HEIGHT*WIDTH)\n",
    "reshaped_arr"
   ]
  },
  {
   "cell_type": "code",
   "execution_count": 29,
   "metadata": {
    "scrolled": false
   },
   "outputs": [
    {
     "data": {
      "text/html": [
       "<div>\n",
       "<style scoped>\n",
       "    .dataframe tbody tr th:only-of-type {\n",
       "        vertical-align: middle;\n",
       "    }\n",
       "\n",
       "    .dataframe tbody tr th {\n",
       "        vertical-align: top;\n",
       "    }\n",
       "\n",
       "    .dataframe thead th {\n",
       "        text-align: right;\n",
       "    }\n",
       "</style>\n",
       "<table border=\"1\" class=\"dataframe\">\n",
       "  <thead>\n",
       "    <tr style=\"text-align: right;\">\n",
       "      <th></th>\n",
       "      <th>hiragana</th>\n",
       "      <th>image_data</th>\n",
       "      <th>image_bytes_matrix</th>\n",
       "    </tr>\n",
       "  </thead>\n",
       "  <tbody>\n",
       "    <tr>\n",
       "      <th>0</th>\n",
       "      <td>あ</td>\n",
       "      <td>b'2#3\\x133#\"\"!\"\"\"2#\\x12\"3\"23\\x122#\"\\x13\\x123\"3...</td>\n",
       "      <td>[[3.0, 2.0, 2.0, 3.0, 3.0, 3.0, 1.0, 3.0, 3.0,...</td>\n",
       "    </tr>\n",
       "    <tr>\n",
       "      <th>1</th>\n",
       "      <td>あ</td>\n",
       "      <td>b'3334332\"#3\"2C\"#2#\"!3\"2#\"\"\"\"\"23C233CC33C33322...</td>\n",
       "      <td>[[3.0, 3.0, 3.0, 3.0, 3.0, 3.0, 3.0, 4.0, 3.0,...</td>\n",
       "    </tr>\n",
       "    <tr>\n",
       "      <th>2</th>\n",
       "      <td>あ</td>\n",
       "      <td>b'32333333#22\"3\"2\"#2\"#\"2#2\"#33#3332233#233\"22\\...</td>\n",
       "      <td>[[3.0, 3.0, 3.0, 2.0, 3.0, 3.0, 3.0, 3.0, 3.0,...</td>\n",
       "    </tr>\n",
       "    <tr>\n",
       "      <th>3</th>\n",
       "      <td>あ</td>\n",
       "      <td>b'C4B33332232#33##3\"###3\"2#3243333D3C433#2232$...</td>\n",
       "      <td>[[4.0, 3.0, 3.0, 4.0, 4.0, 2.0, 3.0, 3.0, 3.0,...</td>\n",
       "    </tr>\n",
       "    <tr>\n",
       "      <th>4</th>\n",
       "      <td>あ</td>\n",
       "      <td>b'2223\"2!\"\"\"!\"#\"\"\"22\"\"\\x12!\"!!\"#\\x12\"\"23312#\"\"...</td>\n",
       "      <td>[[3.0, 2.0, 3.0, 2.0, 3.0, 2.0, 3.0, 3.0, 2.0,...</td>\n",
       "    </tr>\n",
       "  </tbody>\n",
       "</table>\n",
       "</div>"
      ],
      "text/plain": [
       "  hiragana                                         image_data  \\\n",
       "0        あ  b'2#3\\x133#\"\"!\"\"\"2#\\x12\"3\"23\\x122#\"\\x13\\x123\"3...   \n",
       "1        あ  b'3334332\"#3\"2C\"#2#\"!3\"2#\"\"\"\"\"23C233CC33C33322...   \n",
       "2        あ  b'32333333#22\"3\"2\"#2\"#\"2#2\"#33#3332233#233\"22\\...   \n",
       "3        あ  b'C4B33332232#33##3\"###3\"2#3243333D3C433#2232$...   \n",
       "4        あ  b'2223\"2!\"\"\"!\"#\"\"\"22\"\"\\x12!\"!!\"#\\x12\"\"23312#\"\"...   \n",
       "\n",
       "                                  image_bytes_matrix  \n",
       "0  [[3.0, 2.0, 2.0, 3.0, 3.0, 3.0, 1.0, 3.0, 3.0,...  \n",
       "1  [[3.0, 3.0, 3.0, 3.0, 3.0, 3.0, 3.0, 4.0, 3.0,...  \n",
       "2  [[3.0, 3.0, 3.0, 2.0, 3.0, 3.0, 3.0, 3.0, 3.0,...  \n",
       "3  [[4.0, 3.0, 3.0, 4.0, 4.0, 2.0, 3.0, 3.0, 3.0,...  \n",
       "4  [[3.0, 2.0, 3.0, 2.0, 3.0, 2.0, 3.0, 3.0, 2.0,...  "
      ]
     },
     "execution_count": 29,
     "metadata": {},
     "output_type": "execute_result"
    }
   ],
   "source": [
    "format_image = lambda x: np.array(Image.frombytes('F', (WIDTH, HEIGHT), x['image_data'], 'bit', 4))\n",
    "\n",
    "df['image_bytes_matrix'] = df.apply(format_image, axis=1)\n",
    "\n",
    "df.head()"
   ]
  },
  {
   "cell_type": "code",
   "execution_count": 41,
   "metadata": {},
   "outputs": [
    {
     "data": {
      "text/plain": [
       "True"
      ]
     },
     "execution_count": 41,
     "metadata": {},
     "output_type": "execute_result"
    }
   ],
   "source": [
    "reshape_matrix = lambda x: np.reshape(x['image_bytes_matrix'], WIDTH*HEIGHT)\n",
    "\n",
    "df['reshaped_matrix'] = df.apply(reshape_matrix, axis=1)\n",
    "\n",
    "np.shape(df['reshaped_matrix'][0])[0] == WIDTH*HEIGHT"
   ]
  },
  {
   "cell_type": "code",
   "execution_count": 45,
   "metadata": {},
   "outputs": [
    {
     "data": {
      "image/png": "[encoded data removed]",
      "text/html": [
       "<div style=\"vertical-align: middle;\"><strong>gray_r</strong> </div><div class=\"cmap\"><img alt=\"gray_r colormap\" title=\"gray_r\" style=\"border: 1px solid #555;\" src=\"data:image/png;base64,iVBORw0KGgoAAAANSUhEUgAAAgAAAABACAYAAABsv8+/AAAAFXRFWHRUaXRsZQBncmF5X3IgY29sb3JtYXBiIzeyAAAAG3RFWHREZXNjcmlwdGlvbgBncmF5X3IgY29sb3JtYXArtC9WAAAAMHRFWHRBdXRob3IATWF0cGxvdGxpYiB2My40LjMsIGh0dHBzOi8vbWF0cGxvdGxpYi5vcmcJXfPTAAAAMnRFWHRTb2Z0d2FyZQBNYXRwbG90bGliIHYzLjQuMywgaHR0cHM6Ly9tYXRwbG90bGliLm9yZyf7bPQAAAFQSURBVHic7dYxDsIwFAXBD/c/s01DJERHBBLRzjRWCvul3Nvee8/MPA/nl8611ryyb//K+2ffO+4d32f/x/5/7H/6zvu9s/9h/zf79wEAcgQAAAQJAAAIEgAAECQAACBIAABAkAAAgCABAABBAgAAggQAAAQJAAAIEgAAECQAACBIAABAkAAAgCABAABBAgAAggQAAAQJAAAIEgAAECQAACBIAABAkAAAgCABAABBAgAAggQAAAQJAAAIEgAAECQAACBIAABAkAAAgCABAABBAgAAggQAAAQJAAAIEgAAECQAACBIAABAkAAAgCABAABBAgAAggQAAAQJAAAIEgAAECQAACBIAABAkAAAgCABAABBAgAAggQAAAQJAAAIEgAAECQAACBIAABAkAAAgCABAABBAgAAggQAAAQJAAAIEgAAECQAACBIAABAkAAAgKAHBe68nT8SsbMAAAAASUVORK5CYII=\"></div><div style=\"vertical-align: middle; max-width: 514px; display: flex; justify-content: space-between;\"><div style=\"float: left;\"><div title=\"#ffffffff\" style=\"display: inline-block; width: 1em; height: 1em; margin: 0; vertical-align: middle; border: 1px solid #555; background-color: #ffffffff;\"></div> under</div><div style=\"margin: 0 auto; display: inline-block;\">bad <div title=\"#00000000\" style=\"display: inline-block; width: 1em; height: 1em; margin: 0; vertical-align: middle; border: 1px solid #555; background-color: #00000000;\"></div></div><div style=\"float: right;\">over <div title=\"#000000ff\" style=\"display: inline-block; width: 1em; height: 1em; margin: 0; vertical-align: middle; border: 1px solid #555; background-color: #000000ff;\"></div></div>"
      ],
      "text/plain": [
       "<matplotlib.colors.LinearSegmentedColormap at 0x7ff0f920dca0>"
      ]
     },
     "execution_count": 45,
     "metadata": {},
     "output_type": "execute_result"
    }
   ],
   "source": []
  }
 ],
 "metadata": {
  "kernelspec": {
   "display_name": "Python 3 (ipykernel)",
   "language": "python",
   "name": "python3"
  },
  "language_info": {
   "codemirror_mode": {
    "name": "ipython",
    "version": 3
   },
   "file_extension": ".py",
   "mimetype": "text/x-python",
   "name": "python",
   "nbconvert_exporter": "python",
   "pygments_lexer": "ipython3",
   "version": "3.9.7"
  }
 },
 "nbformat": 4,
 "nbformat_minor": 2
}
