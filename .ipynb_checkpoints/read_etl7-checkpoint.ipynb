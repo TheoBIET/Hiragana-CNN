{
 "cells": [
  {
   "cell_type": "code",
   "execution_count": 112,
   "id": "62555f61",
   "metadata": {},
   "outputs": [],
   "source": [
    "import os,struct\n",
    "\n",
    "import numpy as np\n",
    "import matplotlib.pyplot as plt\n",
    "import pandas as pd"
   ]
  },
  {
   "cell_type": "code",
   "execution_count": 123,
   "id": "8e59620c",
   "metadata": {},
   "outputs": [],
   "source": [
    "BASE_PATH = './data/etl7'\n",
    "UNPACK_STRING = '>H2sH6BI4H4B4x2016s4x'\n",
    "FILES = ['ETL7LC_1']\n",
    "RECORDS_NB = [9600, 7200, 9600, 7200]\n",
    "RECORD_LENGTH = 2052 # bytes\n",
    "WIDTH = 64\n",
    "HEIGHT = 63\n",
    "COLUMNS_LABELS = ['index','character_name','phonetic','sheet_index','image_quality','group_quality','writer_gender','writer_age','date_of_scan','x_pos','y_pos','image_data']"
   ]
  },
  {
   "cell_type": "code",
   "execution_count": 124,
   "id": "298f6eee",
   "metadata": {},
   "outputs": [],
   "source": [
    "records_list = []"
   ]
  },
  {
   "cell_type": "code",
   "execution_count": 125,
   "id": "1e5ca639",
   "metadata": {
    "scrolled": true
   },
   "outputs": [],
   "source": [
    "for filename in FILES:\n",
    "    file_index = FILES.index(filename)\n",
    "    records_nb = RECORDS_NB[file_index]\n",
    "    count = 0\n",
    "    f = open(f'{BASE_PATH}/{filename}', 'rb')\n",
    "\n",
    "    while count <= records_nb:\n",
    "        record_string = f.read(RECORD_LENGTH)\n",
    "\n",
    "        if len(record_string) < RECORD_LENGTH:\n",
    "            break\n",
    "            \n",
    "        record = struct.unpack(UNPACK_STRING, record_string)\n",
    "        phonetic = record[1].decode('ascii')\n",
    "        date_of_scan = f'{record[13][2:]}{record[13][:2]}' # 7708 -> 08-1977\n",
    "        record_data = [record[0],record[1],phonetic,record[2],record[5],record[6],record[7],record[8],record[13],record[14],record[15],record[18]]\n",
    "        records_list.append(record_data)     \n",
    "        count+=1\n",
    "\n",
    "    f.close()"
   ]
  },
  {
   "cell_type": "code",
   "execution_count": 126,
   "id": "bb4d17ed",
   "metadata": {},
   "outputs": [
    {
     "data": {
      "text/plain": [
       "False"
      ]
     },
     "execution_count": 126,
     "metadata": {},
     "output_type": "execute_result"
    }
   ],
   "source": [
    "len(records_list) == sum(RECORDS_NB)"
   ]
  },
  {
   "cell_type": "code",
   "execution_count": 127,
   "id": "5e3ca980",
   "metadata": {
    "scrolled": true
   },
   "outputs": [
    {
     "data": {
      "text/html": [
       "<div>\n",
       "<style scoped>\n",
       "    .dataframe tbody tr th:only-of-type {\n",
       "        vertical-align: middle;\n",
       "    }\n",
       "\n",
       "    .dataframe tbody tr th {\n",
       "        vertical-align: top;\n",
       "    }\n",
       "\n",
       "    .dataframe thead th {\n",
       "        text-align: right;\n",
       "    }\n",
       "</style>\n",
       "<table border=\"1\" class=\"dataframe\">\n",
       "  <thead>\n",
       "    <tr style=\"text-align: right;\">\n",
       "      <th></th>\n",
       "      <th>index</th>\n",
       "      <th>character_name</th>\n",
       "      <th>phonetic</th>\n",
       "      <th>sheet_index</th>\n",
       "      <th>image_quality</th>\n",
       "      <th>group_quality</th>\n",
       "      <th>writer_gender</th>\n",
       "      <th>writer_age</th>\n",
       "      <th>date_of_scan</th>\n",
       "      <th>x_pos</th>\n",
       "      <th>y_pos</th>\n",
       "      <th>image_data</th>\n",
       "    </tr>\n",
       "  </thead>\n",
       "  <tbody>\n",
       "    <tr>\n",
       "      <th>0</th>\n",
       "      <td>1</td>\n",
       "      <td>b' A'</td>\n",
       "      <td>A</td>\n",
       "      <td>1</td>\n",
       "      <td>0</td>\n",
       "      <td>0</td>\n",
       "      <td>1</td>\n",
       "      <td>23</td>\n",
       "      <td>7708</td>\n",
       "      <td>1</td>\n",
       "      <td>1</td>\n",
       "      <td>b'2#3\\x133#\"\"!\"\"\"2#\\x12\"3\"23\\x122#\"\\x13\\x123\"3...</td>\n",
       "    </tr>\n",
       "    <tr>\n",
       "      <th>1</th>\n",
       "      <td>2</td>\n",
       "      <td>b' A'</td>\n",
       "      <td>A</td>\n",
       "      <td>2</td>\n",
       "      <td>0</td>\n",
       "      <td>0</td>\n",
       "      <td>1</td>\n",
       "      <td>23</td>\n",
       "      <td>7708</td>\n",
       "      <td>4</td>\n",
       "      <td>1</td>\n",
       "      <td>b'3334332\"#3\"2C\"#2#\"!3\"2#\"\"\"\"\"23C233CC33C33322...</td>\n",
       "    </tr>\n",
       "    <tr>\n",
       "      <th>2</th>\n",
       "      <td>3</td>\n",
       "      <td>b' A'</td>\n",
       "      <td>A</td>\n",
       "      <td>3</td>\n",
       "      <td>0</td>\n",
       "      <td>0</td>\n",
       "      <td>1</td>\n",
       "      <td>23</td>\n",
       "      <td>7708</td>\n",
       "      <td>1</td>\n",
       "      <td>1</td>\n",
       "      <td>b'32333333#22\"3\"2\"#2\"#\"2#2\"#33#3332233#233\"22\\...</td>\n",
       "    </tr>\n",
       "    <tr>\n",
       "      <th>3</th>\n",
       "      <td>4</td>\n",
       "      <td>b' A'</td>\n",
       "      <td>A</td>\n",
       "      <td>4</td>\n",
       "      <td>0</td>\n",
       "      <td>0</td>\n",
       "      <td>1</td>\n",
       "      <td>23</td>\n",
       "      <td>7708</td>\n",
       "      <td>4</td>\n",
       "      <td>1</td>\n",
       "      <td>b'C4B33332232#33##3\"###3\"2#3243333D3C433#2232$...</td>\n",
       "    </tr>\n",
       "    <tr>\n",
       "      <th>4</th>\n",
       "      <td>5</td>\n",
       "      <td>b' A'</td>\n",
       "      <td>A</td>\n",
       "      <td>5</td>\n",
       "      <td>0</td>\n",
       "      <td>0</td>\n",
       "      <td>1</td>\n",
       "      <td>22</td>\n",
       "      <td>7708</td>\n",
       "      <td>1</td>\n",
       "      <td>1</td>\n",
       "      <td>b'2223\"2!\"\"\"!\"#\"\"\"22\"\"\\x12!\"!!\"#\\x12\"\"23312#\"\"...</td>\n",
       "    </tr>\n",
       "  </tbody>\n",
       "</table>\n",
       "</div>"
      ],
      "text/plain": [
       "   index character_name phonetic  sheet_index  image_quality  group_quality  \\\n",
       "0      1          b' A'        A            1              0              0   \n",
       "1      2          b' A'        A            2              0              0   \n",
       "2      3          b' A'        A            3              0              0   \n",
       "3      4          b' A'        A            4              0              0   \n",
       "4      5          b' A'        A            5              0              0   \n",
       "\n",
       "   writer_gender  writer_age  date_of_scan  x_pos  y_pos  \\\n",
       "0              1          23          7708      1      1   \n",
       "1              1          23          7708      4      1   \n",
       "2              1          23          7708      1      1   \n",
       "3              1          23          7708      4      1   \n",
       "4              1          22          7708      1      1   \n",
       "\n",
       "                                          image_data  \n",
       "0  b'2#3\\x133#\"\"!\"\"\"2#\\x12\"3\"23\\x122#\"\\x13\\x123\"3...  \n",
       "1  b'3334332\"#3\"2C\"#2#\"!3\"2#\"\"\"\"\"23C233CC33C33322...  \n",
       "2  b'32333333#22\"3\"2\"#2\"#\"2#2\"#33#3332233#233\"22\\...  \n",
       "3  b'C4B33332232#33##3\"###3\"2#3243333D3C433#2232$...  \n",
       "4  b'2223\"2!\"\"\"!\"#\"\"\"22\"\"\\x12!\"!!\"#\\x12\"\"23312#\"\"...  "
      ]
     },
     "execution_count": 127,
     "metadata": {},
     "output_type": "execute_result"
    }
   ],
   "source": [
    "df = pd.DataFrame(records_list, columns=COLUMNS_LABELS)\n",
    "df.head()"
   ]
  },
  {
   "cell_type": "code",
   "execution_count": 130,
   "id": "9266f582",
   "metadata": {},
   "outputs": [
    {
     "data": {
      "text/plain": [
       "'08'"
      ]
     },
     "execution_count": 130,
     "metadata": {},
     "output_type": "execute_result"
    }
   ],
   "source": [
    "'7708'[2:]"
   ]
  },
  {
   "cell_type": "code",
   "execution_count": null,
   "id": "f09e95d0",
   "metadata": {},
   "outputs": [],
   "source": []
  }
 ],
 "metadata": {
  "kernelspec": {
   "display_name": "Python 3 (ipykernel)",
   "language": "python",
   "name": "python3"
  },
  "language_info": {
   "codemirror_mode": {
    "name": "ipython",
    "version": 3
   },
   "file_extension": ".py",
   "mimetype": "text/x-python",
   "name": "python",
   "nbconvert_exporter": "python",
   "pygments_lexer": "ipython3",
   "version": "3.9.7"
  }
 },
 "nbformat": 4,
 "nbformat_minor": 5
}
