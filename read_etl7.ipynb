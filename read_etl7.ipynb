{
 "cells": [
  {
   "cell_type": "code",
   "execution_count": 180,
   "id": "62555f61",
   "metadata": {},
   "outputs": [],
   "source": [
    "import os,struct\n",
    "\n",
    "import numpy as np\n",
    "import matplotlib.pyplot as plt\n",
    "import pandas as pd\n",
    "import seaborn as sns"
   ]
  },
  {
   "cell_type": "code",
   "execution_count": 181,
   "id": "8e59620c",
   "metadata": {},
   "outputs": [],
   "source": [
    "BASE_PATH = './data/etl7'\n",
    "UNPACK_STRING = '>H2sH6BI4H4B4x2016s4x'\n",
    "FILES = ['ETL7LC_1']\n",
    "RECORDS_NB = [9600, 7200, 9600, 7200]\n",
    "RECORD_LENGTH = 2052 # bytes\n",
    "WIDTH = 64\n",
    "HEIGHT = 63\n",
    "COLUMNS_LABELS = ['index','character_name','phonetic','writer_gender','writer_age','date_of_scan','image_data']\n",
    "MALE = 1"
   ]
  },
  {
   "cell_type": "code",
   "execution_count": 182,
   "id": "013aa3c2",
   "metadata": {},
   "outputs": [],
   "source": [
    "records_list = []"
   ]
  },
  {
   "cell_type": "code",
   "execution_count": 183,
   "id": "1e5ca639",
   "metadata": {
    "scrolled": true
   },
   "outputs": [],
   "source": [
    "for filename in FILES:\n",
    "    file_index = FILES.index(filename)\n",
    "    records_nb = RECORDS_NB[file_index]\n",
    "    count = 0\n",
    "    f = open(f'{BASE_PATH}/{filename}', 'rb')\n",
    "\n",
    "    while count <= records_nb:\n",
    "        record_string = f.read(RECORD_LENGTH)\n",
    "\n",
    "        if len(record_string) < RECORD_LENGTH:\n",
    "            break\n",
    "            \n",
    "        record = struct.unpack(UNPACK_STRING, record_string)\n",
    "        phonetic = record[1].decode('ascii')\n",
    "        base_date = str(record[13])\n",
    "        date_of_scan = f'{base_date[2:]}-19{base_date[:2]}' # 7708 -> 08-1977\n",
    "        record_data = [record[0],record[1],phonetic,record[7],record[8],date_of_scan,record[18]]\n",
    "        records_list.append(record_data)     \n",
    "        count+=1\n",
    "\n",
    "    f.close()"
   ]
  },
  {
   "cell_type": "code",
   "execution_count": 184,
   "id": "3d2c1420",
   "metadata": {},
   "outputs": [
    {
     "data": {
      "text/plain": [
       "False"
      ]
     },
     "execution_count": 184,
     "metadata": {},
     "output_type": "execute_result"
    }
   ],
   "source": [
    "len(records_list) == sum(RECORDS_NB)"
   ]
  },
  {
   "cell_type": "code",
   "execution_count": 185,
   "id": "f4e3eb51",
   "metadata": {
    "scrolled": true
   },
   "outputs": [
    {
     "data": {
      "text/html": [
       "<div>\n",
       "<style scoped>\n",
       "    .dataframe tbody tr th:only-of-type {\n",
       "        vertical-align: middle;\n",
       "    }\n",
       "\n",
       "    .dataframe tbody tr th {\n",
       "        vertical-align: top;\n",
       "    }\n",
       "\n",
       "    .dataframe thead th {\n",
       "        text-align: right;\n",
       "    }\n",
       "</style>\n",
       "<table border=\"1\" class=\"dataframe\">\n",
       "  <thead>\n",
       "    <tr style=\"text-align: right;\">\n",
       "      <th></th>\n",
       "      <th>index</th>\n",
       "      <th>character_name</th>\n",
       "      <th>phonetic</th>\n",
       "      <th>writer_gender</th>\n",
       "      <th>writer_age</th>\n",
       "      <th>date_of_scan</th>\n",
       "      <th>image_data</th>\n",
       "    </tr>\n",
       "  </thead>\n",
       "  <tbody>\n",
       "    <tr>\n",
       "      <th>0</th>\n",
       "      <td>1</td>\n",
       "      <td>b' A'</td>\n",
       "      <td>A</td>\n",
       "      <td>1</td>\n",
       "      <td>23</td>\n",
       "      <td>08-1977</td>\n",
       "      <td>b'2#3\\x133#\"\"!\"\"\"2#\\x12\"3\"23\\x122#\"\\x13\\x123\"3...</td>\n",
       "    </tr>\n",
       "    <tr>\n",
       "      <th>1</th>\n",
       "      <td>2</td>\n",
       "      <td>b' A'</td>\n",
       "      <td>A</td>\n",
       "      <td>1</td>\n",
       "      <td>23</td>\n",
       "      <td>08-1977</td>\n",
       "      <td>b'3334332\"#3\"2C\"#2#\"!3\"2#\"\"\"\"\"23C233CC33C33322...</td>\n",
       "    </tr>\n",
       "    <tr>\n",
       "      <th>2</th>\n",
       "      <td>3</td>\n",
       "      <td>b' A'</td>\n",
       "      <td>A</td>\n",
       "      <td>1</td>\n",
       "      <td>23</td>\n",
       "      <td>08-1977</td>\n",
       "      <td>b'32333333#22\"3\"2\"#2\"#\"2#2\"#33#3332233#233\"22\\...</td>\n",
       "    </tr>\n",
       "    <tr>\n",
       "      <th>3</th>\n",
       "      <td>4</td>\n",
       "      <td>b' A'</td>\n",
       "      <td>A</td>\n",
       "      <td>1</td>\n",
       "      <td>23</td>\n",
       "      <td>08-1977</td>\n",
       "      <td>b'C4B33332232#33##3\"###3\"2#3243333D3C433#2232$...</td>\n",
       "    </tr>\n",
       "    <tr>\n",
       "      <th>4</th>\n",
       "      <td>5</td>\n",
       "      <td>b' A'</td>\n",
       "      <td>A</td>\n",
       "      <td>1</td>\n",
       "      <td>22</td>\n",
       "      <td>08-1977</td>\n",
       "      <td>b'2223\"2!\"\"\"!\"#\"\"\"22\"\"\\x12!\"!!\"#\\x12\"\"23312#\"\"...</td>\n",
       "    </tr>\n",
       "  </tbody>\n",
       "</table>\n",
       "</div>"
      ],
      "text/plain": [
       "   index character_name phonetic  writer_gender  writer_age date_of_scan  \\\n",
       "0      1          b' A'        A              1          23      08-1977   \n",
       "1      2          b' A'        A              1          23      08-1977   \n",
       "2      3          b' A'        A              1          23      08-1977   \n",
       "3      4          b' A'        A              1          23      08-1977   \n",
       "4      5          b' A'        A              1          22      08-1977   \n",
       "\n",
       "                                          image_data  \n",
       "0  b'2#3\\x133#\"\"!\"\"\"2#\\x12\"3\"23\\x122#\"\\x13\\x123\"3...  \n",
       "1  b'3334332\"#3\"2C\"#2#\"!3\"2#\"\"\"\"\"23C233CC33C33322...  \n",
       "2  b'32333333#22\"3\"2\"#2\"#\"2#2\"#33#3332233#233\"22\\...  \n",
       "3  b'C4B33332232#33##3\"###3\"2#3243333D3C433#2232$...  \n",
       "4  b'2223\"2!\"\"\"!\"#\"\"\"22\"\"\\x12!\"!!\"#\\x12\"\"23312#\"\"...  "
      ]
     },
     "execution_count": 185,
     "metadata": {},
     "output_type": "execute_result"
    }
   ],
   "source": [
    "df = pd.DataFrame(records_list, columns=COLUMNS_LABELS)\n",
    "df.head()"
   ]
  },
  {
   "cell_type": "code",
   "execution_count": 202,
   "id": "d9e7f9ba",
   "metadata": {},
   "outputs": [
    {
     "data": {
      "image/png": "[encoded data removed]",
      "text/plain": [
       "<Figure size 432x288 with 2 Axes>"
      ]
     },
     "metadata": {
      "needs_background": "light"
     },
     "output_type": "display_data"
    }
   ],
   "source": [
    "img = np.array(Image.frombytes('F', (WIDTH, HEIGHT), df['image_data'][0], 'bit', 4))\n",
    "plt.imshow(img)\n",
    "plt.colorbar()\n",
    "plt.show()"
   ]
  },
  {
   "cell_type": "code",
   "execution_count": 193,
   "id": "e0a7360b",
   "metadata": {},
   "outputs": [
    {
     "data": {
      "image/png": "[encoded data removed]",
      "text/plain": [
       "<Figure size 360x360 with 1 Axes>"
      ]
     },
     "metadata": {},
     "output_type": "display_data"
    }
   ],
   "source": [
    "fig, ax = plt.subplots( figsize = (5,5))\n",
    "\n",
    "sizes = df.groupby(by='writer_gender')['writer_gender'].count().values\n",
    "labels = ['Unknown', 'Male', 'Female']\n",
    "explode = (0.01, 0.01, 0.01)\n",
    "colors = ['grey', 'blue', 'pink']\n",
    "\n",
    "\n",
    "ax.pie(\n",
    "    sizes, \n",
    "    explode = explode, \n",
    "    labels = labels, \n",
    "    colors = colors, \n",
    "    autopct='%1.2f%%',\n",
    ")\n",
    "\n",
    "ax.axis('equal')\n",
    "plt.title(\"Frequency of gender of authors\")\n",
    "plt.show()"
   ]
  },
  {
   "cell_type": "code",
   "execution_count": 200,
   "id": "84f55488",
   "metadata": {},
   "outputs": [
    {
     "data": {
      "image/png": "[encoded data removed]",
      "text/plain": [
       "<Figure size 360x360 with 1 Axes>"
      ]
     },
     "metadata": {},
     "output_type": "display_data"
    }
   ],
   "source": [
    "fig, ax = plt.subplots( figsize = (5,5))\n",
    "\n",
    "sizes = df.groupby(by='date_of_scan')['date_of_scan'].count().values\n",
    "labels = df.groupby(by='date_of_scan')['date_of_scan'].count().index\n",
    "explode = (0.01, 0.01)\n",
    "\n",
    "\n",
    "ax.pie(\n",
    "    sizes, \n",
    "    explode = explode, \n",
    "    labels = labels, \n",
    "    colors = colors, \n",
    "    autopct='%1.2f%%',\n",
    ")\n",
    "\n",
    "ax.axis('equal')\n",
    "plt.title(\"Frequency of gender of authors\")\n",
    "plt.show()"
   ]
  },
  {
   "cell_type": "code",
   "execution_count": 207,
   "id": "426e8ada",
   "metadata": {},
   "outputs": [
    {
     "data": {
      "image/png": "[encoded data removed]",
      "text/plain": [
       "<Figure size 720x360 with 1 Axes>"
      ]
     },
     "metadata": {
      "needs_background": "light"
     },
     "output_type": "display_data"
    }
   ],
   "source": [
    "fig, ax = plt.subplots( figsize = (10, 5))\n",
    "\n",
    "sns.boxplot(x=\"writer_gender\", y=\"writer_age\", ax = ax, data=df, showfliers=True);"
   ]
  }
 ],
 "metadata": {
  "kernelspec": {
   "display_name": "Python 3 (ipykernel)",
   "language": "python",
   "name": "python3"
  },
  "language_info": {
   "codemirror_mode": {
    "name": "ipython",
    "version": 3
   },
   "file_extension": ".py",
   "mimetype": "text/x-python",
   "name": "python",
   "nbconvert_exporter": "python",
   "pygments_lexer": "ipython3",
   "version": "3.9.7"
  }
 },
 "nbformat": 4,
 "nbformat_minor": 5
}
